{
 "cells": [
  {
   "cell_type": "markdown",
   "metadata": {},
   "source": [
    "<p style=\"background-color:#080808; font-family: newtimeroman; color: #FFF9ED; font-size: 200%; text-align: center; border-radius: 10px 10px;\">Imports</p>"
   ]
  },
  {
   "cell_type": "code",
   "execution_count": 7,
   "metadata": {},
   "outputs": [],
   "source": [
    "import os\n",
    "import glob\n",
    "import numpy as np\n",
    "from PIL import Image\n",
    "import matplotlib.pyplot as plt\n",
    "from sklearn.preprocessing import OneHotEncoder\n",
    "import tensorflow as tf\n",
    "from tensorflow.keras.models import Model\n",
    "from tensorflow.keras.layers import Input, Dense, Conv2D, MaxPooling2D, Dropout, Flatten"
   ]
  },
  {
   "cell_type": "markdown",
   "metadata": {},
   "source": [
    "<p style=\"background-color:#080808; font-family: newtimeroman; color: #FFF9ED; font-size: 200%; text-align: center; border-radius: 10px 10px;\"> Story</p>\n"
   ]
  },
  {
   "cell_type": "markdown",
   "metadata": {},
   "source": [
    "<p style=\"background-color:#630311; font-family: newtimeroman; color: #ffffff; font-size: 150%; text-align: center; border-radius: 10px 10px;\">Load Images </p>"
   ]
  },
  {
   "cell_type": "code",
   "execution_count": 8,
   "metadata": {},
   "outputs": [
    {
     "ename": "FileNotFoundError",
     "evalue": "[WinError 3] Das System kann den angegebenen Pfad nicht finden: 'C:\\\\Users\\\\thore\\\\Desktop\\\\Studium\\\\KI\\\\KI Bilder\\\\Garbage classification\\\\Garbage classification'",
     "output_type": "error",
     "traceback": [
      "\u001b[1;31m---------------------------------------------------------------------------\u001b[0m",
      "\u001b[1;31mFileNotFoundError\u001b[0m                         Traceback (most recent call last)",
      "Cell \u001b[1;32mIn[8], line 16\u001b[0m\n\u001b[0;32m     13\u001b[0m     \u001b[38;5;28;01mreturn\u001b[39;00m np\u001b[38;5;241m.\u001b[39masarray([np\u001b[38;5;241m.\u001b[39masarray(img) \u001b[38;5;28;01mfor\u001b[39;00m img \u001b[38;5;129;01min\u001b[39;00m images])\n\u001b[0;32m     15\u001b[0m path \u001b[38;5;241m=\u001b[39m \u001b[38;5;124mr\u001b[39m\u001b[38;5;124m'\u001b[39m\u001b[38;5;124mC:\u001b[39m\u001b[38;5;124m\\\u001b[39m\u001b[38;5;124mUsers\u001b[39m\u001b[38;5;124m\\\u001b[39m\u001b[38;5;124mthore\u001b[39m\u001b[38;5;124m\\\u001b[39m\u001b[38;5;124mDesktop\u001b[39m\u001b[38;5;124m\\\u001b[39m\u001b[38;5;124mStudium\u001b[39m\u001b[38;5;124m\\\u001b[39m\u001b[38;5;124mKI\u001b[39m\u001b[38;5;124m\\\u001b[39m\u001b[38;5;124mKI Bilder\u001b[39m\u001b[38;5;124m\\\u001b[39m\u001b[38;5;124mGarbage classification\u001b[39m\u001b[38;5;124m\\\u001b[39m\u001b[38;5;124mGarbage classification\u001b[39m\u001b[38;5;124m'\u001b[39m\n\u001b[1;32m---> 16\u001b[0m num_dirs \u001b[38;5;241m=\u001b[39m \u001b[38;5;28msum\u001b[39m(os\u001b[38;5;241m.\u001b[39mpath\u001b[38;5;241m.\u001b[39misdir(os\u001b[38;5;241m.\u001b[39mpath\u001b[38;5;241m.\u001b[39mjoin(path, i)) \u001b[38;5;28;01mfor\u001b[39;00m i \u001b[38;5;129;01min\u001b[39;00m \u001b[43mos\u001b[49m\u001b[38;5;241;43m.\u001b[39;49m\u001b[43mlistdir\u001b[49m\u001b[43m(\u001b[49m\u001b[43mpath\u001b[49m\u001b[43m)\u001b[49m)\n\u001b[0;32m     17\u001b[0m \u001b[38;5;28mprint\u001b[39m(\u001b[38;5;124mf\u001b[39m\u001b[38;5;124m\"\u001b[39m\u001b[38;5;124mAnzahl der Unterverzeichnisse: \u001b[39m\u001b[38;5;132;01m{\u001b[39;00mnum_dirs\u001b[38;5;132;01m}\u001b[39;00m\u001b[38;5;124m\"\u001b[39m)\n\u001b[0;32m     19\u001b[0m \u001b[38;5;66;03m# Get file names\u001b[39;00m\n",
      "\u001b[1;31mFileNotFoundError\u001b[0m: [WinError 3] Das System kann den angegebenen Pfad nicht finden: 'C:\\\\Users\\\\thore\\\\Desktop\\\\Studium\\\\KI\\\\KI Bilder\\\\Garbage classification\\\\Garbage classification'"
     ]
    }
   ],
   "source": [
    "def get_filenames(filepath):\n",
    "    # Lade alle .jpg-Dateien rekursiv aus dem Verzeichnis und seinen Unterordnern\n",
    "    imagefiles = [f for f in glob.glob(filepath + '/**/*.jpg', recursive=True)]  # '**/' für rekursive Suche\n",
    "    return imagefiles \n",
    "\n",
    "def read_images(filenames, height=None, width=None):\n",
    "    images = [Image.open(filename) for filename in filenames]\n",
    "    if (not height is None) and (not width is None):\n",
    "        images = [img.resize((width, height)) for img in images]\n",
    "    return images\n",
    "\n",
    "def images_to_array(images):\n",
    "    return np.asarray([np.asarray(img) for img in images])\n",
    "\n",
    "path = r'C:\\Users\\thore\\Desktop\\Studium\\KI\\KI Bilder\\Garbage classification\\Garbage classification'\n",
    "num_dirs = sum(os.path.isdir(os.path.join(path, i)) for i in os.listdir(path))\n",
    "print(f\"Anzahl der Unterverzeichnisse: {num_dirs}\")\n",
    "\n",
    "# Get file names\n",
    "image_names = get_filenames(path)\n",
    "\n",
    "# Load images\n",
    "input_shape = {\n",
    "    \"height\": 384,\n",
    "    \"width\": 512,\n",
    "    \"channels\": 3\n",
    "}\n",
    "images = read_images(image_names, height=input_shape[\"height\"], width=input_shape[\"width\"])\n",
    "\n",
    "# Convert images to array\n",
    "aimages = images_to_array(images)\n",
    "print(f'Shape of images array: {aimages.shape}')\n",
    "\n",
    "# Plot images array\n",
    "#display(Image.fromarray(aimages[11]))\n",
    "fig = plt.figure(figsize=(8, 8))\n",
    "rows, columns = num_dirs, 300\n",
    "for i in range(aimages.shape[0]):\n",
    "    fig.add_subplot(rows, columns, i+1)\n",
    "    plt.imshow(aimages[i, ...])\n",
    "plt.show()"
   ]
  }
 ],
 "metadata": {
  "kernelspec": {
   "display_name": "AI",
   "language": "python",
   "name": "python3"
  },
  "language_info": {
   "codemirror_mode": {
    "name": "ipython",
    "version": 3
   },
   "file_extension": ".py",
   "mimetype": "text/x-python",
   "name": "python",
   "nbconvert_exporter": "python",
   "pygments_lexer": "ipython3",
   "version": "3.12.5"
  }
 },
 "nbformat": 4,
 "nbformat_minor": 2
}
